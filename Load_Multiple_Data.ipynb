{
  "nbformat": 4,
  "nbformat_minor": 0,
  "metadata": {
    "colab": {
      "provenance": []
    },
    "kernelspec": {
      "name": "python3",
      "display_name": "Python 3"
    },
    "language_info": {
      "name": "python"
    }
  },
  "cells": [
    {
      "cell_type": "code",
      "execution_count": null,
      "metadata": {
        "id": "apLm2ON6ijSW"
      },
      "outputs": [],
      "source": [
        "# Setelah file diupload ke drive, file bisa dipindah ke colab\n",
        "!cp -r \"/content/drive/Shareddrives/Asisten/Image data\" \"/content/\""
      ]
    },
    {
      "cell_type": "markdown",
      "source": [
        "Berikut isi dari file contoh yang digunakan\n",
        "\n",
        "![image.png](data:image/png;base64,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)"
      ],
      "metadata": {
        "id": "1di3FAWrjr7O"
      }
    },
    {
      "cell_type": "code",
      "source": [
        "#Misal menggunakan library glob\n",
        "import glob"
      ],
      "metadata": {
        "id": "Z3AtQNVEkoAv"
      },
      "execution_count": null,
      "outputs": []
    },
    {
      "cell_type": "code",
      "source": [
        "file_extensions  = [\".jpg\", \".png\"]  #Pilih ekstensi file yang digunakan\n",
        "file_paths = []                      #Buat variabel untuk menyimpan lokasi file\n",
        "for file_ext in file_extensions :\n",
        "  file_paths += glob.glob(\"/content/Image data/*\"+\"/*\"+file_ext)    #Ambil data lokasi file\n",
        "  #Maka yang diambil adalah di \"/content/Image data/*/*.file_ext\" tanda * berarti semua nama file/folder yang ada\n",
        "  #Bisa juga dibuat spesifik membaca di folder 1, maka perintahnya\n",
        "  #file_paths += glob.glob(\"/content/Image data/1\"+\"/*\"+file_ext)"
      ],
      "metadata": {
        "id": "fP4Vqksnjsyx"
      },
      "execution_count": null,
      "outputs": []
    },
    {
      "cell_type": "code",
      "source": [
        "#Hasilnya\n",
        "print(file_paths)"
      ],
      "metadata": {
        "colab": {
          "base_uri": "https://localhost:8080/"
        },
        "id": "Jc-Oci-9jhf3",
        "outputId": "c1983e70-9fc3-4249-a768-0dc008a0a8ff"
      },
      "execution_count": null,
      "outputs": [
        {
          "output_type": "stream",
          "name": "stdout",
          "text": [
            "['/content/Image data/3/1.jpg', '/content/Image data/1/Butterfly Image Classification 75 species_5.jpg', '/content/Image data/2/3.png', '/content/Image data/2/1.png', '/content/Image data/2/2_mod.png', '/content/Image data/2/2.png', '/content/Image data/2/1_mod.png', '/content/Image data/2/3_mod.png', '/content/Image data/1/Bacteria detection with darkfield microscopy_034.png', '/content/Image data/1/COVID-19 Lung CT Scans_2020.02.10.20021584-p6-52%6.png']\n"
          ]
        }
      ]
    },
    {
      "cell_type": "code",
      "source": [
        "#Bisa diakses per elemen\n",
        "print(file_paths[0])"
      ],
      "metadata": {
        "colab": {
          "base_uri": "https://localhost:8080/"
        },
        "id": "3GY8DwQQoNzN",
        "outputId": "909617de-33fe-44c7-94aa-1af041185f8e"
      },
      "execution_count": null,
      "outputs": [
        {
          "output_type": "stream",
          "name": "stdout",
          "text": [
            "/content/Image data/3/1.jpg\n"
          ]
        }
      ]
    },
    {
      "cell_type": "code",
      "source": [
        "#Bisa diurutkan berdasarkan abjad\n",
        "sorted_file_paths = sorted(file_paths)\n",
        "print(sorted_file_paths)"
      ],
      "metadata": {
        "colab": {
          "base_uri": "https://localhost:8080/"
        },
        "id": "ih6G9TVFoSha",
        "outputId": "0de66a7c-f67c-42be-cadf-7d629cc9389f"
      },
      "execution_count": null,
      "outputs": [
        {
          "output_type": "stream",
          "name": "stdout",
          "text": [
            "['/content/Image data/1/Bacteria detection with darkfield microscopy_034.png', '/content/Image data/1/Butterfly Image Classification 75 species_5.jpg', '/content/Image data/1/COVID-19 Lung CT Scans_2020.02.10.20021584-p6-52%6.png', '/content/Image data/2/1.png', '/content/Image data/2/1_mod.png', '/content/Image data/2/2.png', '/content/Image data/2/2_mod.png', '/content/Image data/2/3.png', '/content/Image data/2/3_mod.png', '/content/Image data/3/1.jpg']\n"
          ]
        }
      ]
    },
    {
      "cell_type": "code",
      "source": [
        "#Untuk memproses keseluruhan citra (hanya contoh)\n",
        "for i in sorted_file_paths:\n",
        "  images = cv2.imread(i)\n",
        "  blur_images = cv2.blur(images)\n",
        "  ...\n",
        "  ...\n",
        "  ..."
      ],
      "metadata": {
        "id": "BElou2R-om5h"
      },
      "execution_count": null,
      "outputs": []
    }
  ]
}